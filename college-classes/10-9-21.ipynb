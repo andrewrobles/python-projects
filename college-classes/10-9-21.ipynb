{
 "cells": [
  {
   "cell_type": "code",
   "execution_count": 80,
   "id": "3dde704c",
   "metadata": {},
   "outputs": [
    {
     "name": "stdout",
     "output_type": "stream",
     "text": [
      "Enter the user's employee id:empid\n",
      "Enter the user's first name:first\n",
      "Enter the user's last name:last\n",
      "Enter the user's department number:dept\n",
      "Enter the user's supervisor (full name):super\n",
      "Enter the user's Linux account ID:linux\n",
      "Enter the user's temporary password:pass\n",
      "Enter the name of the server they’ve requested:server\n",
      "Would you like to create another record (type yes or Y to Continue)yes\n",
      "Enter the user's employee id:emp2\n",
      "Enter the user's first name:first2\n",
      "Enter the user's last name:last2\n",
      "Enter the user's department number:dept2\n",
      "Enter the user's supervisor (full name):super2\n",
      "Enter the user's Linux account ID:linux2\n",
      "Enter the user's temporary password:pass2\n",
      "Enter the name of the server they’ve requested:server2\n",
      "Would you like to create another record (type yes or Y to Continue)n\n",
      "Enter the user's employee id:id3\n",
      "Enter the user's first name:first3\n",
      "Enter the user's last name:last3\n",
      "Enter the user's department number:dept3\n",
      "Enter the user's supervisor (full name):super3\n",
      "Enter the user's Linux account ID:linux3\n",
      "Enter the user's temporary password:pass3\n",
      "Enter the name of the server they’ve requested:server3\n",
      "Would you like to create another record (type yes or Y to Continue)N\n",
      "Summary Report of User Records\n",
      "===================================\n",
      "3 record(s) created:\n",
      "Department Code   Employee Count\n",
      "===================================\n",
      "dept            1\n",
      "dept2            1\n",
      "dept3            1\n",
      "===================================\n",
      "Servers Requested   Employee Count\n",
      "***********************************\n",
      "server            1\n",
      "server2            1\n",
      "server3            1\n",
      "***********************************\n",
      "Employee Details\n",
      "===================================\n",
      "Name: first last\n",
      "Employee Id: empid\n",
      "Department: dept\n",
      "Supervisor: super\n",
      "Username: linux\n",
      "\n",
      "\n",
      "Name: first2 last2\n",
      "Employee Id: emp2\n",
      "Department: dept2\n",
      "Supervisor: super2\n",
      "Username: linux2\n",
      "\n",
      "\n",
      "Name: first3 last3\n",
      "Employee Id: id3\n",
      "Department: dept3\n",
      "Supervisor: super3\n",
      "Username: linux3\n",
      "\n",
      "\n"
     ]
    }
   ],
   "source": [
    "shouldContinueProgram = True\n",
    "questionsList = [\n",
    "             \"Enter the user's employee id:\", \n",
    "             \"Enter the user's first name:\", \n",
    "             \"Enter the user's last name:\", \n",
    "             \"Enter the user's department number:\", \n",
    "             \"Enter the user's supervisor (full name):\", \n",
    "             \"Enter the user's Linux account ID:\", \n",
    "             \"Enter the user's temporary password:\", \n",
    "             \"Enter the name of the server they’ve requested:\", \n",
    "             \"Would you like to create another record (type yes or Y to Continue)\"\n",
    "            ]\n",
    "employeeDatabase = {}\n",
    "\n",
    "while True:\n",
    "    answersList = []\n",
    "    \n",
    "    for currentQuestion in questionsList:\n",
    "        userInput = input(currentQuestion)\n",
    "        answersList.append(userInput)\n",
    "        \n",
    "    newEmployee = Employee(answersList[0], \n",
    "                       answersList[1], \n",
    "                       answersList[2], \n",
    "                       answersList[3], \n",
    "                       answersList[4],\n",
    "                       answersList[5],\n",
    "                       answersList[6],\n",
    "                       answersList[7],\n",
    "                      )\n",
    "    \n",
    "    storeEmployee(newEmployee)\n",
    "    \n",
    "    if answersList[-1] == 'N' or answersList[-1] == 'no':\n",
    "        break\n",
    "        \n",
    "displayReport(employeeDatabase)"
   ]
  },
  {
   "cell_type": "code",
   "execution_count": 73,
   "id": "d3b76315",
   "metadata": {},
   "outputs": [],
   "source": [
    "#!/usr/bin/python3\n",
    "\n",
    "#This employee class gathers multiple user information to be used in subsequent functions\n",
    "class Employee:\n",
    "    def __init__(self, empID, firstName, lastName, deptCode, superName, linuxAccID, tempPass, connServer):\n",
    "        #constructors\n",
    "        self.empID = empID\n",
    "        self.firstName = firstName\n",
    "        self.lastName = lastName\n",
    "        self.deptCode = deptCode\n",
    "        self.superName = superName\n",
    "        self.tempPass = tempPass\n",
    "        self.connServer = connServer\n",
    "        self.linuxAccID = linuxAccID\n",
    "\n",
    "\n"
   ]
  },
  {
   "cell_type": "code",
   "execution_count": 74,
   "id": "e1bb41ba",
   "metadata": {},
   "outputs": [
    {
     "ename": "IndexError",
     "evalue": "list index out of range",
     "output_type": "error",
     "traceback": [
      "\u001b[0;31m---------------------------------------------------------------------------\u001b[0m",
      "\u001b[0;31mIndexError\u001b[0m                                Traceback (most recent call last)",
      "\u001b[0;32m<ipython-input-74-38ad44f037da>\u001b[0m in \u001b[0;36m<module>\u001b[0;34m\u001b[0m\n\u001b[1;32m      1\u001b[0m newEmployee = Employee(answersList[0], \n\u001b[0;32m----> 2\u001b[0;31m                        \u001b[0manswersList\u001b[0m\u001b[0;34m[\u001b[0m\u001b[0;36m1\u001b[0m\u001b[0;34m]\u001b[0m\u001b[0;34m,\u001b[0m\u001b[0;34m\u001b[0m\u001b[0;34m\u001b[0m\u001b[0m\n\u001b[0m\u001b[1;32m      3\u001b[0m                        \u001b[0manswersList\u001b[0m\u001b[0;34m[\u001b[0m\u001b[0;36m2\u001b[0m\u001b[0;34m]\u001b[0m\u001b[0;34m,\u001b[0m\u001b[0;34m\u001b[0m\u001b[0;34m\u001b[0m\u001b[0m\n\u001b[1;32m      4\u001b[0m                        \u001b[0manswersList\u001b[0m\u001b[0;34m[\u001b[0m\u001b[0;36m3\u001b[0m\u001b[0;34m]\u001b[0m\u001b[0;34m,\u001b[0m\u001b[0;34m\u001b[0m\u001b[0;34m\u001b[0m\u001b[0m\n\u001b[1;32m      5\u001b[0m                        \u001b[0manswersList\u001b[0m\u001b[0;34m[\u001b[0m\u001b[0;36m4\u001b[0m\u001b[0;34m]\u001b[0m\u001b[0;34m,\u001b[0m\u001b[0;34m\u001b[0m\u001b[0;34m\u001b[0m\u001b[0m\n",
      "\u001b[0;31mIndexError\u001b[0m: list index out of range"
     ]
    }
   ],
   "source": [
    "newEmployee = Employee(answersList[0], \n",
    "                       answersList[1], \n",
    "                       answersList[2], \n",
    "                       answersList[3], \n",
    "                       answersList[4],\n",
    "                       answersList[5],\n",
    "                       answersList[6],\n",
    "                       answersList[7],\n",
    "                      )"
   ]
  },
  {
   "cell_type": "code",
   "execution_count": 75,
   "id": "51c3bd9a",
   "metadata": {},
   "outputs": [
    {
     "data": {
      "text/plain": [
       "<__main__.Employee at 0x7fba73dd8640>"
      ]
     },
     "execution_count": 75,
     "metadata": {},
     "output_type": "execute_result"
    }
   ],
   "source": [
    "newEmployee"
   ]
  },
  {
   "cell_type": "code",
   "execution_count": 76,
   "id": "39e64a32",
   "metadata": {},
   "outputs": [],
   "source": [
    "employeeDatabase = {}\n",
    "\n",
    "def storeEmployee(newEmployee):\n",
    "    # Validate employee by checking for duplicates\n",
    "    if newEmployee.empID not in employeeDatabase:\n",
    "        # Store employee in database\n",
    "        employeeDatabase[newEmployee.empID] = newEmployee\n",
    "        \n",
    "storeEmployee(newEmployee)"
   ]
  },
  {
   "cell_type": "code",
   "execution_count": 77,
   "id": "73dca20b",
   "metadata": {},
   "outputs": [
    {
     "data": {
      "text/plain": [
       "{'1': <__main__.Employee at 0x7fba73dd8640>}"
      ]
     },
     "execution_count": 77,
     "metadata": {},
     "output_type": "execute_result"
    }
   ],
   "source": [
    "employeeDatabase\n"
   ]
  },
  {
   "cell_type": "code",
   "execution_count": 78,
   "id": "8de04d55",
   "metadata": {},
   "outputs": [],
   "source": [
    "def displayReport(employeeDatabase):\n",
    "    print(\"Summary Report of User Records\")\n",
    "    print(\"===================================\")\n",
    "    print(str(len(employeeDatabase)) + \" record(s) created:\")\n",
    "    print(\"Department Code   Employee Count\")\n",
    "    print(\"===================================\")\n",
    "    for departmentCode, employeeCount in getDepartmentInfo(employeeDatabase).items():\n",
    "        print(\"{}            {}\".format(departmentCode, employeeCount))\n",
    "    print(\"===================================\")\n",
    "    print(\"Servers Requested   Employee Count\")\n",
    "    print(\"***********************************\")\n",
    "    for serverName, employeeCount in getServerInfo(employeeDatabase).items():\n",
    "        print(\"{}            {}\".format(serverName, employeeCount))\n",
    "    print(\"***********************************\")\n",
    "    print(\"Employee Details\")\n",
    "    print(\"===================================\")\n",
    "    for employee in employeeDatabase.values():\n",
    "        print(\"Name: {} {}\".format(employee.firstName, employee.lastName))\n",
    "        print(\"Employee Id: {}\".format(employee.empID))\n",
    "        print(\"Department: {}\".format(employee.deptCode))\n",
    "        print(\"Supervisor: {}\".format(employee.superName))\n",
    "        print(\"Username: {}\".format(employee.linuxAccID))\n",
    "        print(\"\")\n",
    "        print(\"\")\n",
    "        \n",
    "def getDepartmentInfo(employeeDatabase):\n",
    "    departmentCounts = {}\n",
    "    \n",
    "    for employee in employeeDatabase.values():\n",
    "        if employee.deptCode not in departmentCounts:\n",
    "            departmentCounts[employee.deptCode] = 1\n",
    "        else:\n",
    "            departmentCounts[employee.deptCode] += 1\n",
    "            \n",
    "    return departmentCounts\n",
    "\n",
    "def getServerInfo(employeeDatabase):\n",
    "    serverCounts = {}\n",
    "    \n",
    "    for employee in employeeDatabase.values():\n",
    "        if employee.connServer not in serverCounts:\n",
    "            serverCounts[employee.connServer] = 1\n",
    "        else:\n",
    "            serverCounts[employee.connServer] += 1\n",
    "            \n",
    "    return serverCounts"
   ]
  },
  {
   "cell_type": "code",
   "execution_count": 79,
   "id": "9cbcfd9f",
   "metadata": {},
   "outputs": [
    {
     "name": "stdout",
     "output_type": "stream",
     "text": [
      "Summary Report of User Records\n",
      "===================================\n",
      "1 record(s) created:\n",
      "Department Code   Employee Count\n",
      "===================================\n",
      "4            1\n",
      "===================================\n",
      "Servers Requested   Employee Count\n",
      "***********************************\n",
      "5            1\n",
      "***********************************\n",
      "Employee Details\n",
      "===================================\n",
      "Name: 2 3\n",
      "Employee Id: 1\n",
      "Department: 4\n",
      "Supervisor: 5\n",
      "Username: 6\n",
      "\n",
      "\n"
     ]
    }
   ],
   "source": [
    "displayReport(employeeDatabase)"
   ]
  },
  {
   "cell_type": "code",
   "execution_count": 57,
   "id": "202de331",
   "metadata": {},
   "outputs": [
    {
     "data": {
      "text/plain": [
       "'mypassword'"
      ]
     },
     "execution_count": 57,
     "metadata": {},
     "output_type": "execute_result"
    }
   ],
   "source": [
    "newEmployee.connServer"
   ]
  },
  {
   "cell_type": "code",
   "execution_count": null,
   "id": "bf85c9c9",
   "metadata": {},
   "outputs": [],
   "source": []
  }
 ],
 "metadata": {
  "kernelspec": {
   "display_name": "Python 3",
   "language": "python",
   "name": "python3"
  },
  "language_info": {
   "codemirror_mode": {
    "name": "ipython",
    "version": 3
   },
   "file_extension": ".py",
   "mimetype": "text/x-python",
   "name": "python",
   "nbconvert_exporter": "python",
   "pygments_lexer": "ipython3",
   "version": "3.9.2"
  }
 },
 "nbformat": 4,
 "nbformat_minor": 5
}
