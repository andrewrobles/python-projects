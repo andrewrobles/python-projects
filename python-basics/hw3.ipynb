{
 "cells": [
  {
   "cell_type": "markdown",
   "metadata": {},
   "source": [
    "# COMS W1002 Computing in Context\n",
    "## Homework 3\n",
    "### Due Monday October 25 at 11:59PM"
   ]
  },
  {
   "cell_type": "markdown",
   "metadata": {},
   "source": [
    "__Problem 1:__ (9 points) Create a list containing 10 ones. Do this three different ways."
   ]
  },
  {
   "cell_type": "code",
   "execution_count": 14,
   "metadata": {},
   "outputs": [
    {
     "name": "stdout",
     "output_type": "stream",
     "text": [
      "my_list using Method #1: [1, 1, 1, 1, 1, 1, 1, 1, 1, 1]\n",
      "my_list using Method #2: [1, 1, 1, 1, 1, 1, 1, 1, 1, 1]\n",
      "my_list using Method #3: [1, 1, 1, 1, 1, 1, 1, 1, 1, 1]\n"
     ]
    }
   ],
   "source": [
    "# Method 1\n",
    "my_list = []\n",
    "for i in range(0, 10):\n",
    "    my_list.append(1)\n",
    "    \n",
    "print('my_list using Method #1: {}'.format(my_list))\n",
    "\n",
    "# Method 2\n",
    "i = 0\n",
    "my_list = []\n",
    "while i < 10:\n",
    "    my_list.append(1)\n",
    "    i += 1\n",
    "    \n",
    "print('my_list using Method #2: {}'.format(my_list))\n",
    "\n",
    "# Method 3\n",
    "my_list = [1 for i in range(0, 10)]\n",
    "print('my_list using Method #3: {}'.format(my_list))"
   ]
  },
  {
   "cell_type": "markdown",
   "metadata": {},
   "source": [
    "__Problem 2:__ (6 points) Consider two lists A and B such that A returns [1,3,5] and B returns [1,3,5]. \n",
    "\n",
    "1. Create A and B so A *is* B returns True.  \n",
    "2. Create A and B so A *is* B returns False."
   ]
  },
  {
   "cell_type": "code",
   "execution_count": 19,
   "metadata": {},
   "outputs": [
    {
     "name": "stdout",
     "output_type": "stream",
     "text": [
      "listA is listB: True\n"
     ]
    }
   ],
   "source": [
    "# write your code for part 1 here\n",
    "listA = [1, 3, 5]\n",
    "listB = listA\n",
    "\n",
    "print('listA is listB: {}'.format(str(listA is listB)))"
   ]
  },
  {
   "cell_type": "code",
   "execution_count": 21,
   "metadata": {},
   "outputs": [
    {
     "name": "stdout",
     "output_type": "stream",
     "text": [
      "listA: [1, 3, 500]\n",
      "listB: [1, 3, 500]\n"
     ]
    }
   ],
   "source": [
    "listA[2] = 500\n",
    "\n",
    "print('listA: {}'.format(listA))\n",
    "print('listB: {}'.format(listB))"
   ]
  },
  {
   "cell_type": "code",
   "execution_count": 23,
   "metadata": {},
   "outputs": [
    {
     "name": "stdout",
     "output_type": "stream",
     "text": [
      "listA is listB: False\n"
     ]
    }
   ],
   "source": [
    "# Write your code for part 2 here\n",
    "listA = [1, 3, 5]\n",
    "listB = [1, 3, 5]\n",
    "\n",
    "print('listA is listB: {}'.format(str(listA is listB)))"
   ]
  },
  {
   "cell_type": "code",
   "execution_count": 24,
   "metadata": {},
   "outputs": [
    {
     "name": "stdout",
     "output_type": "stream",
     "text": [
      "listA: [1, 3, 500]\n",
      "listB: [1, 3, 5]\n"
     ]
    }
   ],
   "source": [
    "listA[2] = 500\n",
    "\n",
    "print('listA: {}'.format(listA))\n",
    "print('listB: {}'.format(listB))"
   ]
  },
  {
   "cell_type": "markdown",
   "metadata": {},
   "source": [
    "__Problem 3:__ (15 points) Write a function that takes in a string as input and returns a list of the unique letters used in the string. Punctuation or any other non-letter should not be counted. Your list should return all letters as lower case and sorted. So for example if the input is ' `Happy days are here again!`' your function should return the list `['a''d','e','g','h','i','n','p','r','s','y']`"
   ]
  },
  {
   "cell_type": "code",
   "execution_count": 35,
   "metadata": {},
   "outputs": [
    {
     "name": "stdout",
     "output_type": "stream",
     "text": [
      "Please type in a sentence: Happy days are here again!\n",
      "['a', 'd', 'e', 'g', 'h', 'i', 'n', 'p', 'r', 's', 'y']\n"
     ]
    }
   ],
   "source": [
    "# write your code here\n",
    "# you may add more cells as needed\n",
    "\n",
    "# sentence = 'Happy days are here again!'\n",
    "\n",
    "def get_unique_letters(sentence):\n",
    "    letter_set = set()\n",
    "    \n",
    "    for letter in sentence:\n",
    "        if letter.isalpha():\n",
    "            letter_set.add(letter.lower())\n",
    "    \n",
    "    letter_list = list(letter_set)\n",
    "    return letter_list\n",
    "\n",
    "sentence = input('Please type in a sentence: ')\n",
    "result = get_unique_letters(sentence)\n",
    "result.sort()\n",
    "\n",
    "print(result)"
   ]
  },
  {
   "cell_type": "markdown",
   "metadata": {},
   "source": [
    "__Problem 4:__ (70 points)  \n",
    "\n",
    "**Scrabble Help:**  The file [dictionary.txt](http://www.cs.columbia.edu/~cannon/1002/dictionary.txt) contains all of the words in the Official Scrabble Player's Dictionary, Second Edition. (Note this list contains some offensive language.) Write the following functions in Python. Each function uses the parameter *file_name* which will be the name of the file containing the dictionary. Your functions must work with ***any*** file_name so this should just be a string representing the name of a file in the same directory (folder) as your function. So to test your functions, download the `dictionary.txt` file into the same directory as your notebook.\n",
    " \n",
    "* length_n(file_name, n):  returns an list of all words of length *n*.\n",
    "* starts_with(file_name, n, first_letter):  returns a list of all words of length *n* beginning with the letter *first_letter*\n",
    "* contains_letter(file_name, n, included):  returns a list of all words of length *n* containing the letter *included* but not beginning with it.\n",
    "* vowel_heavy(file_name, n, m): returns a list of all words of length *n* with at least *m* vowels. \n",
    "\n"
   ]
  },
  {
   "cell_type": "code",
   "execution_count": 49,
   "metadata": {},
   "outputs": [],
   "source": [
    "def length_n(file_name,n):\n",
    "    my_list = []\n",
    "    file = open(file_name, 'r')\n",
    "    \n",
    "    for line in file.readlines():\n",
    "        length = len(line) - 1\n",
    "        \n",
    "        if length <= n:\n",
    "            my_list.append(line[:-1])\n",
    "            \n",
    "    file.close()\n",
    "    \n",
    "    return my_list\n",
    "    \n",
    "result = length_n('dictionary.txt', 4)"
   ]
  },
  {
   "cell_type": "code",
   "execution_count": 58,
   "metadata": {},
   "outputs": [
    {
     "name": "stdout",
     "output_type": "stream",
     "text": [
      "['ba', 'be', 'bi', 'bo', 'by']\n"
     ]
    }
   ],
   "source": [
    "def starts_with(file_name, n, first_letter):\n",
    "    length_n_list = length_n(file_name, n)\n",
    "    \n",
    "    starts_with_list = []\n",
    "    \n",
    "    for word in length_n_list:\n",
    "        if word[0] == first_letter:\n",
    "            starts_with_list.append(word)\n",
    "\n",
    "    return starts_with_list\n",
    "\n",
    "result = starts_with('dictionary.txt', 2, 'b')\n",
    "print(result)"
   ]
  },
  {
   "cell_type": "code",
   "execution_count": 63,
   "metadata": {},
   "outputs": [],
   "source": [
    "def contains_letter(file_name, n, included):\n",
    "    length_n_list = length_n(file_name, n)\n",
    "    \n",
    "    contains_letter_list = []\n",
    "    \n",
    "    for word in length_n_list:\n",
    "        if included in word and word[0] != included:\n",
    "            contains_letter_list.append(word)\n",
    "            \n",
    "    return contains_letter_list\n",
    "        \n",
    "result = contains_letter('dictionary.txt', 3, 'c')"
   ]
  },
  {
   "cell_type": "code",
   "execution_count": 71,
   "metadata": {},
   "outputs": [
    {
     "name": "stdout",
     "output_type": "stream",
     "text": [
      "['aa', 'ae', 'ai', 'oe']\n"
     ]
    }
   ],
   "source": [
    "def vowel_heavy(file_name, n, m):\n",
    "    \n",
    "    \n",
    "    length_n_list = length_n(file_name, n)\n",
    "    \n",
    "    my_list = []\n",
    "    \n",
    "    for word in length_n_list:\n",
    "        if count_vowels(word) >= m:\n",
    "            my_list.append(word)\n",
    "    \n",
    "    return my_list\n",
    "\n",
    "def count_vowels(word):\n",
    "    vowels = ['a', 'e', 'i', 'o', 'u']\n",
    "    count = 0\n",
    "    \n",
    "    for letter in word:\n",
    "        if letter in vowels:\n",
    "            count += 1\n",
    "    \n",
    "    return count    \n",
    "\n",
    "result = vowel_heavy('dictionary.txt', 2, 2)\n",
    "print(result)"
   ]
  },
  {
   "cell_type": "code",
   "execution_count": null,
   "metadata": {},
   "outputs": [],
   "source": []
  }
 ],
 "metadata": {
  "kernelspec": {
   "display_name": "Python 3",
   "language": "python",
   "name": "python3"
  },
  "language_info": {
   "codemirror_mode": {
    "name": "ipython",
    "version": 3
   },
   "file_extension": ".py",
   "mimetype": "text/x-python",
   "name": "python",
   "nbconvert_exporter": "python",
   "pygments_lexer": "ipython3",
   "version": "3.9.2"
  }
 },
 "nbformat": 4,
 "nbformat_minor": 1
}
