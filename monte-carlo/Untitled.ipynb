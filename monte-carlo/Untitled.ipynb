{
 "cells": [
  {
   "cell_type": "code",
   "execution_count": 69,
   "id": "a4713b91",
   "metadata": {},
   "outputs": [
    {
     "name": "stdout",
     "output_type": "stream",
     "text": [
      "pi: 0.771\n"
     ]
    }
   ],
   "source": [
    "def monte_carlo(N_pond, N_box, A_box):\n",
    "    # Handle divide by zero case\n",
    "    denominator = N_pond + N_box\n",
    "    numerator = N_pond * A_box\n",
    "    if denominator == 0:\n",
    "        return 0\n",
    "    \n",
    "    return numerator / denominator\n",
    "\n",
    "N = 1000\n",
    "N_pond = 0\n",
    "N_box = 0\n",
    "A_box = 1\n",
    "for i in range(N): \n",
    "    # Requirement no. 3\n",
    "    # Requirement no. 4\n",
    "    x = random.uniform(-1, 1)\n",
    "    y = random.uniform(-1, 1)\n",
    "    \n",
    "    # Requirement no. 5\n",
    "    if x ** 2 + y ** 2 < 1:\n",
    "        N_pond += 1\n",
    "    else:\n",
    "        N_box += 1\n",
    "        \n",
    "    # Requirement no. 6\n",
    "    pi = monte_carlo(N_pond, N_box, A_box)\n",
    "    \n",
    "    if pi > 100:\n",
    "        break\n",
    "\n",
    "print('pi: {}'.format(pi))"
   ]
  }
 ],
 "metadata": {
  "kernelspec": {
   "display_name": "Python 3",
   "language": "python",
   "name": "python3"
  },
  "language_info": {
   "codemirror_mode": {
    "name": "ipython",
    "version": 3
   },
   "file_extension": ".py",
   "mimetype": "text/x-python",
   "name": "python",
   "nbconvert_exporter": "python",
   "pygments_lexer": "ipython3",
   "version": "3.9.2"
  }
 },
 "nbformat": 4,
 "nbformat_minor": 5
}
